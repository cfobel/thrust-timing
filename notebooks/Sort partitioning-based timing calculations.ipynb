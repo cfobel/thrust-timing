{
 "metadata": {
  "name": "",
  "signature": "sha256:fe520dd71a01f9e3d62cb9f7bc3ba3154eed4fa83bef5fbe1db2ac3f46748ba1"
 },
 "nbformat": 3,
 "nbformat_minor": 0,
 "worksheets": [
  {
   "cells": [
    {
     "cell_type": "code",
     "collapsed": false,
     "input": [
      "!pwd"
     ],
     "language": "python",
     "metadata": {},
     "outputs": [
      {
       "output_type": "stream",
       "stream": "stdout",
       "text": [
        "/home/christian/.virtualenvs/vpr-x64/src/thrust-timing/notebooks\r\n"
       ]
      }
     ],
     "prompt_number": 12
    },
    {
     "cell_type": "code",
     "collapsed": false,
     "input": [
      "from cyplace_experiments.data.connections_table import get_simple_net_list, ConnectionsTable\n",
      "from thrust_timing.DELAY_MODEL import fill_longest_paths\n",
      "from thrust_timing.sort_timing import compute_arrival_times, compute_departure_times\n",
      "from cythrust.device_vector import DeviceVectorFloat32, DeviceVectorInt32"
     ],
     "language": "python",
     "metadata": {},
     "outputs": [],
     "prompt_number": 1
    },
    {
     "cell_type": "code",
     "collapsed": false,
     "input": [
      "import numpy as np\n",
      "\n",
      "connections_table, arrival_times, departure_times =  get_simple_net_list()\n",
      "\n",
      "_arrival_times = compute_arrival_times(connections_table)\n",
      "_departure_times = compute_departure_times(connections_table)\n",
      "\n",
      "np.testing.assert_array_equal(_arrival_times, arrival_times)\n",
      "np.testing.assert_array_equal(_departure_times, departure_times)"
     ],
     "language": "python",
     "metadata": {},
     "outputs": [],
     "prompt_number": 2
    },
    {
     "cell_type": "code",
     "collapsed": false,
     "input": [
      "from IPython.display import display\n",
      "\n",
      "connections_table = ConnectionsTable.from_net_list_name(\n",
      "    'b19_1_new_mapped-1x4lut')\n",
      "\n",
      "arrival_times = compute_arrival_times(connections_table)\n",
      "departure_times = compute_departure_times(connections_table)\n",
      "display(arrival_times.describe())\n",
      "display(departure_times.describe())\n",
      "np.testing.assert_array_equal(arrival_times[connections_table\n",
      "                                            .input_block_keys()], 0)\n",
      "np.testing.assert_array_equal(departure_times[connections_table\n",
      "                                              .output_block_keys()], 0)"
     ],
     "language": "python",
     "metadata": {},
     "outputs": [
      {
       "metadata": {},
       "output_type": "display_data",
       "text": [
        "count    306988.000000\n",
        "mean         15.122940\n",
        "std          12.309812\n",
        "min           0.000000\n",
        "25%           5.000000\n",
        "50%          11.000000\n",
        "75%          23.000000\n",
        "max          56.000000\n",
        "dtype: float64"
       ]
      },
      {
       "metadata": {},
       "output_type": "display_data",
       "text": [
        "count    306988.000000\n",
        "mean          8.065455\n",
        "std           8.901516\n",
        "min           0.000000\n",
        "25%           2.000000\n",
        "50%           5.000000\n",
        "75%          10.000000\n",
        "max          56.000000\n",
        "dtype: float64"
       ]
      }
     ],
     "prompt_number": 20
    }
   ],
   "metadata": {}
  }
 ]
}